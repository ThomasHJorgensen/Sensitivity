{
 "cells": [
  {
   "cell_type": "markdown",
   "metadata": {},
   "source": [
    "# This notebook loads the matrices from Oswald (2019, QE)\n",
    "All five elements have kindly been calculated and provided by Florian Oswald and dowloaded from his GitHub: https://github.com/floswald/migration/tree/thomas/mig/out"
   ]
  },
  {
   "cell_type": "code",
   "execution_count": 1,
   "metadata": {},
   "outputs": [],
   "source": [
    "import numpy as np\n",
    "\n",
    "import seaborn as sns \n",
    "import matplotlib.pyplot as plt\n",
    "from matplotlib import cm\n",
    "from mpl_toolkits.mplot3d import Axes3D"
   ]
  },
  {
   "cell_type": "code",
   "execution_count": 2,
   "metadata": {},
   "outputs": [],
   "source": [
    "# theta (estimated)\n",
    "est_par_tex = (r'$\\hat{\\xi}_1$',r'$\\hat{\\xi}_2$',r'$\\hat{\\eta}$',r'$\\hat{\\omega}$',r'$\\hat{\\alpha}_0$',r'$\\hat{\\alpha}_1$',r'$\\hat{\\alpha}_2$',r'$\\hat{\\alpha}_3$',r'$\\hat{\\alpha}_4$',r'$\\hat{\\pi}_{\\tau}$'\n",
    "              ,r'$\\hat{A}_{NwE}$',r'$\\hat{A}_{MdA}$',r'$\\hat{A}_{StA}$',r'$\\hat{A}_{WNC}$',r'$\\hat{A}_{WSC}$',r'$\\hat{A}_{ENC}$',r'$\\hat{A}_{ESC}$',r'$\\hat{A}_{Pcf}$',r'$\\hat{A}_{Mnt}$')\n",
    "theta = np.array([[-0.009,0.003,0.217,4.364,3.165,0.017,0.0013,0.217,0.147,0.697, 0.044,0.112,0.168,0.09,0.122,0.137,0.063,0.198,0.124]])\n",
    "\n",
    "# gamma (fixed)\n",
    "fixed_par_tex = (r'${\\tilde{\\gamma}}$',r'${\\beta}$',r'${\\rho}$',r'${\\sigma}$',r'${\\phi}$',r'${\\chi}$',r'${r}$',r'${r}^m$')\n",
    "gamma = np.array([[1.43, 0.96, 0.96, 0.118,0.06,0.2,0.04,0.055]])\n",
    "\n",
    "# option value of migration\n",
    "ATE_str = '$\\hat{\\Delta}^e$'\n",
    "ATE = 19.2"
   ]
  },
  {
   "cell_type": "code",
   "execution_count": 3,
   "metadata": {},
   "outputs": [],
   "source": [
    "# load data\n",
    "A = np.loadtxt('thomas_A.txt',delimiter=\"\\t\")\n",
    "B = np.loadtxt('thomas_B.txt',delimiter=\"\\t\")\n",
    "D = - np.loadtxt('thomas_D.txt',delimiter=\"\\t\")\n",
    "G = - np.loadtxt('thomas_G.txt',delimiter=\"\\t\")\n",
    "W = np.loadtxt('thomas_W.txt',delimiter=\"\\t\")"
   ]
  },
  {
   "cell_type": "markdown",
   "metadata": {},
   "source": [
    "## Calculate sensitivity measures"
   ]
  },
  {
   "cell_type": "code",
   "execution_count": 4,
   "metadata": {},
   "outputs": [],
   "source": [
    "GWG = G.T @ W @ G\n",
    "Lambda = - np.linalg.inv(GWG) @ G.T @ W\n",
    "S = Lambda @ D\n",
    "H = A + B @ S\n",
    "\n",
    "Se = S * (gamma / theta.T)\n",
    "He = H * (gamma / ATE)"
   ]
  },
  {
   "cell_type": "code",
   "execution_count": 5,
   "metadata": {},
   "outputs": [],
   "source": [
    "def plot_heat(sens,ylabel,name):\n",
    "    fs = 13\n",
    "    sns.set(rc={'text.usetex' : True})\n",
    "    cmap = sns.diverging_palette(220, 10, sep=10, n=100)\n",
    "\n",
    "    fig = plt.figure()\n",
    "    ax = fig.add_subplot(1,1,1)\n",
    "    ax = sns.heatmap(sens,annot=False,fmt=\"2.2f\",annot_kws={\"size\": fs},xticklabels=fixed_par_tex,yticklabels=ylabel,center=0,linewidth=.5,cmap=cmap)\n",
    "    \n",
    "    plt.yticks(rotation=0) \n",
    "    ax.tick_params(axis='both', which='major', labelsize=fs)\n",
    "    plt.savefig('sense_Oswald' + name + '.pdf',bbox_inches=\"tight\")"
   ]
  },
  {
   "cell_type": "code",
   "execution_count": null,
   "metadata": {},
   "outputs": [],
   "source": [
    "# plot heatmap\n",
    "sense = np.log(np.abs(Se))\n",
    "plot_heat(sense,est_par_tex,'_theta')"
   ]
  },
  {
   "cell_type": "code",
   "execution_count": null,
   "metadata": {},
   "outputs": [],
   "source": [
    "# construct LaTeX table\n",
    "num_gamma = len(fixed_par_tex)\n",
    "with open('Oswald_H' + '.tex',\"w\") as file:\n",
    "    file.write(\"\\\\begin{tabular}{l*{%d}{c}} \\\\toprule \\n\" %num_gamma)\n",
    "    for g in range(num_gamma):\n",
    "        file.write(\"& %s \" %fixed_par_tex[g])\n",
    "    file.write(\"\\\\\\\\ \\\\cmidrule(lr){2-%d} \\n \" %(num_gamma+1))\n",
    "    file.write(\"%s\" %ATE_str)\n",
    "    for g in range(num_gamma):\n",
    "        file.write(\"& %2.3f \" %He[0,g])\n",
    "\n",
    "    file.write(\"\\\\\\\\ \\\\bottomrule \\n \\\\end{tabular}\" )\n",
    "\n",
    "num_theta = len(est_par_tex)\n",
    "with open('Oswald_Se' + '.tex',\"w\") as file:\n",
    "    file.write(\"\\\\begin{tabular}{l*{%d}{c}} \\\\toprule \\n\" %num_gamma) \n",
    "    #file.write(\"\\\\multicolumn{%d}{c}{} \\\\\\\\ \\\\toprule \\n\" %(1+num_theta))\n",
    "    for g in range(num_gamma):\n",
    "        file.write(\"& %s \" %fixed_par_tex[g])\n",
    "    file.write(\"\\\\\\\\ \\\\cmidrule(lr){2-%d} \\n \" %(num_gamma+1))\n",
    "\n",
    "    # sensitivity\n",
    "    for t in range(num_theta):\n",
    "        file.write(\" %s \" %est_par_tex[t])\n",
    "        for g in range(num_gamma):\n",
    "            file.write(\"& %2.3f \" %Se[t,g])\n",
    "        file.write(\"\\\\\\\\ \\n \")\n",
    "\n",
    "    file.write(\"\\\\bottomrule \\n \\\\end{tabular}\" )"
   ]
  }
 ],
 "metadata": {
  "kernelspec": {
   "display_name": "Python 3",
   "language": "python",
   "name": "python3"
  },
  "language_info": {
   "codemirror_mode": {
    "name": "ipython",
    "version": 3
   },
   "file_extension": ".py",
   "mimetype": "text/x-python",
   "name": "python",
   "nbconvert_exporter": "python",
   "pygments_lexer": "ipython3",
   "version": "3.7.0"
  }
 },
 "nbformat": 4,
 "nbformat_minor": 2
}
