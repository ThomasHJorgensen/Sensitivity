{
 "cells": [
  {
   "cell_type": "code",
   "execution_count": 1,
   "metadata": {},
   "outputs": [],
   "source": [
    "LOAD = False\n",
    "\n",
    "# reload module each time cell is run\n",
    "%load_ext autoreload\n",
    "%autoreload 2\n",
    "\n",
    "import numpy as np\n",
    "from numba import njit, prange, boolean, int32, double\n",
    "from numba.experimental import jitclass\n",
    "import time\n",
    "\n",
    "import seaborn as sns \n",
    "import matplotlib.pyplot as plt\n",
    "from matplotlib import cm\n",
    "from mpl_toolkits.mplot3d import Axes3D\n",
    "\n",
    "# tools\n",
    "from tools import linear_interp # for linear interpolation\n",
    "from tools import misc # various tools\n",
    "from tools.ConsumptionSavingModel import ConsumptionSavingModel # baseline model classes\n",
    "\n",
    "# solution and plot routines\n",
    "import solve_GP2002 as gp\n",
    "import tools.plot as plot\n",
    "\n",
    "from tools import SimulatedMinimumDistance as SMD"
   ]
  },
  {
   "cell_type": "code",
   "execution_count": 2,
   "metadata": {},
   "outputs": [],
   "source": [
    "add_str = '_est'\n",
    "est_par = (\"beta\",\"rho\")\n",
    "est_par_tex = (r'$\\hat{\\beta}$',r'$\\hat{\\rho}$')\n",
    "\n",
    "# choose gamma (fixed)\n",
    "fixed_par = ('sigma_perm','sigma_trans','p','r','mu_a_init','sigma_a_init')\n",
    "fixed_par_tex = (r'$\\sigma_{n}$',r'$\\sigma_{u}$',r'$p$',r'$r$',r'$\\tilde{\\omega}_{26}$',r'$\\sigma_{\\omega_{26}}$')"
   ]
  },
  {
   "cell_type": "code",
   "execution_count": 3,
   "metadata": {},
   "outputs": [],
   "source": [
    "# moment function\n",
    "@njit\n",
    "def mom_fun(data):\n",
    "    return np.log(data.C_avg)\n",
    "\n",
    "# load data\n",
    "consumption,income,weight = gp.load_data()\n",
    "mom_data = np.log(consumption)\n",
    "theta0 = [0.944, 1.860] "
   ]
  },
  {
   "cell_type": "code",
   "execution_count": 4,
   "metadata": {},
   "outputs": [
    {
     "name": "stdout",
     "output_type": "stream",
     "text": [
      "Optimization terminated successfully.\n",
      "         Current function value: 0.540269\n",
      "         Iterations: 31\n",
      "         Function evaluations: 62\n"
     ]
    }
   ],
   "source": [
    "# Estimate the baseline model\n",
    "model_base = gp.GP2002()\n",
    "model_base.draw_random()\n",
    "\n",
    "smd_base = SMD.SimulatedMinimumDistance(model_base,mom_data,mom_fun,print_iter=False,options={'disp':True})\n",
    "if LOAD:\n",
    "    smd_base.est = theta0\n",
    "else:\n",
    "    smd_base.estimate(theta0,est_par,weight)\n",
    "\n",
    "theta_base = smd_base.est\n",
    "\n",
    "# update model parameters\n",
    "for p in range(len(est_par)):\n",
    "    setattr(model_base.par,est_par[p],theta_base[p]) "
   ]
  },
  {
   "cell_type": "code",
   "execution_count": 16,
   "metadata": {},
   "outputs": [
    {
     "name": "stdout",
     "output_type": "stream",
     "text": [
      "Time to calculate sensitivity measure: 3.51 minutes\n"
     ]
    }
   ],
   "source": [
    "# Construct sensitivity of parameters to calibrated parameters\n",
    "t0 = time.time()\n",
    "smd_base.sensitivity(theta_base,est_par,weight,fixed_par,do_robust=True)\n",
    "time_sens = time.time() - t0\n",
    "print(f'Time to calculate sensitivity measure: {time_sens/60:2.2f} minutes')"
   ]
  },
  {
   "cell_type": "markdown",
   "metadata": {},
   "source": [
    "# Brute-force estimation of elasticities\n",
    "Takes some time"
   ]
  },
  {
   "cell_type": "code",
   "execution_count": 17,
   "metadata": {},
   "outputs": [],
   "source": [
    "# gamma = np.array([ getattr(model_base.par,name) for name in  fixed_par])\n",
    "# def estimate_func(gamma,gamma_names,theta): \n",
    "    \n",
    "#     # set calibrated values\n",
    "#     for i in range(len(gamma_names)):\n",
    "#         setattr(model_base.par,gamma_names[i],gamma[i]) \n",
    "#         print(f'{gamma_names[i]} = {gamma[i]:2.5f}')\n",
    "        \n",
    "#     # estimate model\n",
    "#     smd_base.estimate(theta,est_par,weight)\n",
    "    \n",
    "#     return smd_base.est\n",
    "\n",
    "# args = (theta_base,)\n",
    "# brute_grad = smd_base.num_grad_obj(estimate_func,gamma,fixed_par,1.0e-4,*args)\n",
    "# [setattr(model_base.par,fixed_par[i],gamma[i]) for i in range(len(fixed_par))]"
   ]
  },
  {
   "cell_type": "code",
   "execution_count": 18,
   "metadata": {},
   "outputs": [
    {
     "data": {
      "image/png": "[encoded data removed]",
      "text/plain": [
       "<Figure size 432x288 with 2 Axes>"
      ]
     },
     "metadata": {},
     "output_type": "display_data"
    },
    {
     "data": {
      "image/png": "[encoded data removed]",
      "text/plain": [
       "<Figure size 432x288 with 2 Axes>"
      ]
     },
     "metadata": {},
     "output_type": "display_data"
    }
   ],
   "source": [
    "plot.sens_fig_tab(smd_base.sens,smd_base.sens,theta_base,est_par_tex,fixed_par_tex,add_str=add_str+'_grad_approx',save=True)\n",
    "plot.sens_fig_tab(smd_base.sens_robust,smd_base.sens_robust,theta_base,est_par_tex,fixed_par_tex,add_str=add_str+'_grad',save=True)\n",
    "# plot.sens_fig_tab(brute_grad,brute_grad,theta_base,est_par_tex,fixed_par_tex,add_str=add_str+'_grad_brute',save=True)"
   ]
  }
 ],
 "metadata": {
  "kernelspec": {
   "display_name": "Python 3",
   "language": "python",
   "name": "python3"
  },
  "language_info": {
   "codemirror_mode": {
    "name": "ipython",
    "version": 3
   },
   "file_extension": ".py",
   "mimetype": "text/x-python",
   "name": "python",
   "nbconvert_exporter": "python",
   "pygments_lexer": "ipython3",
   "version": "3.8.3"
  }
 },
 "nbformat": 4,
 "nbformat_minor": 4
}
